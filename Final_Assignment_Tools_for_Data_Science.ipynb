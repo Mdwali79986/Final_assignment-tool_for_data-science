{
 "cells": [
  {
   "cell_type": "markdown",
   "id": "e59fdf6e",
   "metadata": {},
   "source": [
    "# Tools for Data Science"
   ]
  },
  {
   "cell_type": "markdown",
   "id": "967d473c",
   "metadata": {},
   "source": [
    "## Introduction\n",
    "This notebook provides an overview of various tools, languages, and libraries used in the field of Data Science. It also includes a few examples of basic arithmetic operations using Python."
   ]
  },
  {
   "cell_type": "markdown",
   "id": "ea6c22c1",
   "metadata": {},
   "source": [
    "## Data Science Languages\n",
    "Some of the popular languages used in Data Science are:\n",
    "- Python\n",
    "- R\n",
    "- SQL\n",
    "- Julia\n",
    "- Scala"
   ]
  },
  {
   "cell_type": "markdown",
   "id": "0ccd0061",
   "metadata": {},
   "source": [
    "## Data Science Libraries\n",
    "Commonly used libraries for Data Science include:\n",
    "- NumPy\n",
    "- Pandas\n",
    "- Matplotlib\n",
    "- Scikit-learn\n",
    "- TensorFlow"
   ]
  },
  {
   "cell_type": "markdown",
   "id": "43bdb0f7",
   "metadata": {},
   "source": [
    "## Data Science Tools\n",
    "| Tool | Category |\n",
    "|------|-----------|\n",
    "| Jupyter Notebook | IDE |\n",
    "| RStudio | IDE |\n",
    "| Apache Spark | Big Data Processing |\n",
    "| TensorFlow | Machine Learning |\n",
    "| Tableau | Data Visualization |"
   ]
  },
  {
   "cell_type": "markdown",
   "id": "188451b1",
   "metadata": {},
   "source": [
    "## Arithmetic Expression Examples\n",
    "In this section, we will perform simple arithmetic operations like addition and multiplication."
   ]
  },
  {
   "cell_type": "code",
   "execution_count": null,
   "id": "bd9067f6",
   "metadata": {},
   "outputs": [],
   "source": [
    "# Multiplying and adding numbers\n",
    "a = 5\n",
    "b = 10\n",
    "c = a * b + 20\n",
    "c"
   ]
  },
  {
   "cell_type": "code",
   "execution_count": null,
   "id": "d3f84f80",
   "metadata": {},
   "outputs": [],
   "source": [
    "# Converting minutes to hours\n",
    "minutes = 150\n",
    "hours = minutes / 60\n",
    "hours"
   ]
  },
  {
   "cell_type": "markdown",
   "id": "a750fa46",
   "metadata": {},
   "source": [
    "## Objectives\n",
    "The objectives of this notebook are:\n",
    "- List popular data science languages\n",
    "- List common data science libraries\n",
    "- Display data science tools in a table\n",
    "- Demonstrate arithmetic operations\n",
    "- Convert minutes to hours using Python code"
   ]
  },
  {
   "cell_type": "markdown",
   "id": "73d457a2",
   "metadata": {},
   "source": [
    "## Author\n",
    "**Author:** MD Waliullah"
   ]
  }
 ],
 "metadata": {},
 "nbformat": 4,
 "nbformat_minor": 5
}
